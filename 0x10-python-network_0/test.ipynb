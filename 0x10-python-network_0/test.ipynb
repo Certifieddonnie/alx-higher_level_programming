{
 "cells": [
  {
   "cell_type": "code",
   "execution_count": 37,
   "metadata": {},
   "outputs": [],
   "source": [
    "# def find_peak(list_int):\n",
    "#     temp = []\n",
    "\n",
    "#     if len(list_int) == 0:\n",
    "#         return None\n",
    "#     i = 1\n",
    "#     while i < (len(list_int)-1):\n",
    "#         if (list_int[i-1] <= list_int[i]) and (list_int[i+1] <= list_int[i]):\n",
    "#             # temp.append(list_int[i])\n",
    "#             return list_int[i]\n",
    "#         i = i + 1\n",
    "\n",
    "def find_peak(list_of_integers):\n",
    "    \"\"\"\n",
    "    Args:\n",
    "        list_of_integers(int): list of integers to find peak of\n",
    "    Returns: peak of list_of_integers or None\n",
    "    \"\"\"\n",
    "    size = len(list_of_integers)\n",
    "    mid_e = size\n",
    "    mid = size // 2\n",
    "\n",
    "    if size == 0:\n",
    "        return None\n",
    "\n",
    "    while True:\n",
    "        mid_e = mid_e // 2\n",
    "        if (mid < size - 1 and\n",
    "                list_of_integers[mid] < list_of_integers[mid + 1]):\n",
    "            if mid_e // 2 == 0:\n",
    "                mid_e = 2\n",
    "            mid = mid + mid_e // 2\n",
    "        elif mid_e > 0 and list_of_integers[mid] < list_of_integers[mid - 1]:\n",
    "            if mid_e // 2 == 0:\n",
    "                mid_e = 2\n",
    "            mid = mid - mid_e // 2\n",
    "        else:\n",
    "            return list_of_integers[mid]\n",
    "\n",
    "# def find_peak(arr):\n",
    "\n",
    "#     n = len(arr)\n",
    "#     # first or last element is peak element\n",
    "#     if n == 0:\n",
    "#         return None\n",
    "#     if (n == 1) :\n",
    "#       return 0\n",
    "#     if (arr[0] >= arr[1]) :\n",
    "#         return 0\n",
    "#     if (arr[n - 1] >= arr[n - 2]) :\n",
    "#         return n - 1\n",
    "  \n",
    "#     # check for every other element\n",
    "#     for i in range(1, n - 1) :\n",
    "  \n",
    "#         # check if the neighbors are smaller\n",
    "#         if (arr[i] >= arr[i - 1] and arr[i] >= arr[i + 1]) :\n",
    "#             return i"
   ]
  },
  {
   "cell_type": "code",
   "execution_count": 39,
   "metadata": {},
   "outputs": [
    {
     "name": "stdout",
     "output_type": "stream",
     "text": [
      "6\n",
      "3\n",
      "2\n",
      "None\n",
      "2\n",
      "4\n",
      "20\n"
     ]
    }
   ],
   "source": [
    "print(find_peak([1, 2, 4, 6, 3]))\n",
    "print(find_peak([4, 2, 1, 2, 3, 1]))\n",
    "print(find_peak([2, 2, 2]))\n",
    "print(find_peak([]))\n",
    "print(find_peak([-2, -4, 2, 1]))\n",
    "print(find_peak([4, 2, 1, 2, 4, 2, 3, 1]))\n",
    "print(find_peak([1, 2, 3, 4, 5, 6, 7, 8, 9, 10, 11, 12 ,13, 14, 15, 16, 17, 18, 19, 20, 0, 7, 5]))\n"
   ]
  }
 ],
 "metadata": {
  "kernelspec": {
   "display_name": "Python 3.10.6 64-bit",
   "language": "python",
   "name": "python3"
  },
  "language_info": {
   "codemirror_mode": {
    "name": "ipython",
    "version": 3
   },
   "file_extension": ".py",
   "mimetype": "text/x-python",
   "name": "python",
   "nbconvert_exporter": "python",
   "pygments_lexer": "ipython3",
   "version": "3.10.6"
  },
  "orig_nbformat": 4,
  "vscode": {
   "interpreter": {
    "hash": "916dbcbb3f70747c44a77c7bcd40155683ae19c65e1c03b4aa3499c5328201f1"
   }
  }
 },
 "nbformat": 4,
 "nbformat_minor": 2
}
